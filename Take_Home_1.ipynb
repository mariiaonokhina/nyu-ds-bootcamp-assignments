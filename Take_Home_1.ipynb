{
 "cells": [
  {
   "cell_type": "markdown",
   "id": "6a735345-1434-4c5e-90ee-312331888389",
   "metadata": {},
   "source": [
    "# Take Home Problems 1 - Mariia Onokhina"
   ]
  },
  {
   "cell_type": "markdown",
   "id": "85317334-974b-44ee-b3fa-08f24b26ded1",
   "metadata": {},
   "source": [
    "1. Write a program that takes a word as an input and print the number of vowels in the word."
   ]
  },
  {
   "cell_type": "code",
   "execution_count": 9,
   "id": "f065c26a-f289-4af3-9763-a5c4fd2f2b67",
   "metadata": {},
   "outputs": [
    {
     "name": "stdin",
     "output_type": "stream",
     "text": [
      "Type a word:  python\n"
     ]
    },
    {
     "name": "stdout",
     "output_type": "stream",
     "text": [
      "There are 1 vowels in python\n"
     ]
    }
   ],
   "source": [
    "word = input(\"Type a word: \")\n",
    "vowels = set([\"a\", \"e\", \"i\", \"o\", \"u\"])\n",
    "\n",
    "vowels_count = 0\n",
    "\n",
    "for letter in word:\n",
    "    if letter.lower() in vowels:\n",
    "        vowels_count += 1\n",
    "print(f\"There are {vowels_count} vowels in {word}\")"
   ]
  },
  {
   "cell_type": "markdown",
   "id": "13cef993-f614-4f8f-bf0d-f0131cb9fcd5",
   "metadata": {},
   "source": [
    "2. Iterate through the following list of animals and print each one in all caps.\n",
    "\n",
    "  animals=['tiger', 'elephant', 'monkey', 'zebra', 'panther']"
   ]
  },
  {
   "cell_type": "code",
   "execution_count": 11,
   "id": "53b71b53-64b7-4b1f-bb16-6e4b6d79777c",
   "metadata": {},
   "outputs": [
    {
     "name": "stdout",
     "output_type": "stream",
     "text": [
      "TIGER\n",
      "ELEPHANT\n",
      "MONKEY\n",
      "ZEBRA\n",
      "PANTHER\n"
     ]
    }
   ],
   "source": [
    "animals=['tiger', 'elephant', 'monkey', 'zebra', 'panther']\n",
    "\n",
    "for animal in animals:\n",
    "    print(animal.upper())"
   ]
  },
  {
   "cell_type": "markdown",
   "id": "836d04a9-9151-4234-96cf-821db1fb0a18",
   "metadata": {},
   "source": [
    "3. Write a program that iterates from 1 to 20, printing each number and whether it's odd or even."
   ]
  },
  {
   "cell_type": "code",
   "execution_count": 12,
   "id": "f335f0f1-6cb2-4c96-ba67-0d05d75e1bba",
   "metadata": {},
   "outputs": [
    {
     "name": "stdout",
     "output_type": "stream",
     "text": [
      "1 odd\n",
      "2 even\n",
      "3 odd\n",
      "4 even\n",
      "5 odd\n",
      "6 even\n",
      "7 odd\n",
      "8 even\n",
      "9 odd\n",
      "10 even\n",
      "11 odd\n",
      "12 even\n",
      "13 odd\n",
      "14 even\n",
      "15 odd\n",
      "16 even\n",
      "17 odd\n",
      "18 even\n",
      "19 odd\n",
      "20 even\n"
     ]
    }
   ],
   "source": [
    "for num in range(1, 21):\n",
    "    if num % 2 == 0:\n",
    "        print(num, \"even\")\n",
    "    else:\n",
    "        print(num, \"odd\")"
   ]
  },
  {
   "cell_type": "markdown",
   "id": "645acda2-066c-4338-af9c-9b9745de6f8c",
   "metadata": {},
   "source": [
    "4. Write a program to check if a string is a palindrome or not."
   ]
  },
  {
   "cell_type": "code",
   "execution_count": 17,
   "id": "e05708cc-bcca-46af-9a2e-bf335c600540",
   "metadata": {},
   "outputs": [
    {
     "name": "stdout",
     "output_type": "stream",
     "text": [
      "Hannah is a palindrome\n",
      "Hello is not a palindrome\n"
     ]
    }
   ],
   "source": [
    "string1 = \"Hannah\"\n",
    "string2 = \"Hello\"\n",
    "\n",
    "def isPalindrome(word):\n",
    "    p1 = 0\n",
    "    p2 = len(word) - 1\n",
    "    while p1 <= p2:\n",
    "        if word[p1].lower() != word[p2].lower():\n",
    "            return \"not a palindrome\"\n",
    "        else:\n",
    "            p1 += 1\n",
    "            p2 -= 1\n",
    "    return \"a palindrome\"\n",
    "\n",
    "print(f\"{string1} is {isPalindrome(string1)}\")\n",
    "print(f\"{string2} is {isPalindrome(string2)}\")"
   ]
  },
  {
   "cell_type": "markdown",
   "id": "cdca328c-74e3-4c63-b11e-2e24b7bdd296",
   "metadata": {},
   "source": [
    "5. Write a function sum_of_integers(a, b) that takes two integers as input from the user and returns their sum."
   ]
  },
  {
   "cell_type": "code",
   "execution_count": 21,
   "id": "5ad6b126-23a1-4779-be4b-4053637f92d3",
   "metadata": {},
   "outputs": [
    {
     "name": "stdin",
     "output_type": "stream",
     "text": [
      "Enter 1st integer:  5\n",
      "Enter 2nd integer:  6\n"
     ]
    },
    {
     "name": "stdout",
     "output_type": "stream",
     "text": [
      "11\n"
     ]
    },
    {
     "name": "stdin",
     "output_type": "stream",
     "text": [
      "Enter 1st integer:  hello\n",
      "Enter 2nd integer:  2\n"
     ]
    },
    {
     "name": "stdout",
     "output_type": "stream",
     "text": [
      "Error: cannot perform operation with non-integers\n"
     ]
    }
   ],
   "source": [
    "def sum_of_integers():\n",
    "    a = input(\"Enter 1st integer: \")\n",
    "    b = input(\"Enter 2nd integer: \")\n",
    "    try:\n",
    "        a = int(a)\n",
    "        b = int(b)\n",
    "    except ValueError:\n",
    "        return \"Error: cannot perform operation with non-integers\"\n",
    "\n",
    "    return a + b\n",
    "\n",
    "print(sum_of_integers())\n",
    "print(sum_of_integers())"
   ]
  },
  {
   "cell_type": "markdown",
   "id": "15f349c0-1ae0-4542-83aa-3cfbf063e804",
   "metadata": {},
   "source": [
    "## Additional Challenge - Books data challenge"
   ]
  },
  {
   "cell_type": "code",
   "execution_count": 22,
   "id": "f949b6ba-242b-41e4-8ebf-8b1bc8e6bfe7",
   "metadata": {},
   "outputs": [],
   "source": [
    "books = [\n",
    "    {\n",
    "        \"title\": \"The Great Gatsby\",\n",
    "        \"author\": \"F. Scott Fitzgerald\",\n",
    "        \"genre\": \"Fiction\",\n",
    "        \"rating\": 4.2\n",
    "    },\n",
    "    {\n",
    "        \"title\": \"To Kill a Mockingbird\",\n",
    "        \"author\": \"Harper Lee\",\n",
    "        \"genre\": \"Classic\",\n",
    "        \"rating\": 4.5\n",
    "    },\n",
    "    {\n",
    "        \"title\": \"1984\",\n",
    "        \"author\": \"George Orwell\",\n",
    "        \"genre\": \"Dystopian\",\n",
    "        \"rating\": 4.8\n",
    "    },\n",
    "    {\n",
    "        \"title\": \"Pride and Prejudice\",\n",
    "        \"author\": \"Jane Austen\",\n",
    "        \"genre\": \"Romance\",\n",
    "        \"rating\": 4.7\n",
    "    },\n",
    "    {\n",
    "        \"title\": \"Harry Potter and the Sorcerer's Stone\",\n",
    "        \"author\": \"J.K. Rowling\",\n",
    "        \"genre\": \"Fantasy\",\n",
    "        \"rating\": 4.9\n",
    "    },\n",
    "    {\n",
    "        \"title\": \"The Catcher in the Rye\",\n",
    "        \"author\": \"J.D. Salinger\",\n",
    "        \"genre\": \"Coming-of-age\",\n",
    "        \"rating\": 4.1\n",
    "    }\n",
    "]"
   ]
  },
  {
   "cell_type": "markdown",
   "id": "3cb3a3bc-103b-49da-8a90-c49d280b95fe",
   "metadata": {},
   "source": [
    "1. Checking Book Ratings\n",
    "\n",
    "Write a function check_rating(book) that takes a book dictionary and returns True if the rating is greater than 4.5, and False otherwise. Additionally, modify the function to return 'low' if the rating is less than or equal to 4.0, 'medium' if it's greater than 4.0 but less than or equal to 4.5, and 'high' if it's greater than 4.5."
   ]
  },
  {
   "cell_type": "code",
   "execution_count": 38,
   "id": "306d5e6a-ebd6-49e4-849f-95f4d23b51c4",
   "metadata": {},
   "outputs": [],
   "source": [
    "def check_rating(book):\n",
    "    for b in books:\n",
    "        if b[\"title\"] == book:\n",
    "            if b[\"rating\"] <= 4.0:\n",
    "                return \"low (\" + str(b[\"rating\"]) + \")\"\n",
    "            elif b[\"rating\"] <= 4.5:\n",
    "                return \"medium (\" + str(b[\"rating\"]) + \")\"\n",
    "            else:\n",
    "                return \"high (\" + str(b[\"rating\"]) + \")\"\n",
    "    return \"Error: Book not found\""
   ]
  },
  {
   "cell_type": "code",
   "execution_count": 39,
   "id": "00f048e3-1f90-490d-97df-6b53906ea6a2",
   "metadata": {},
   "outputs": [
    {
     "data": {
      "text/plain": [
       "'medium (4.1)'"
      ]
     },
     "execution_count": 39,
     "metadata": {},
     "output_type": "execute_result"
    }
   ],
   "source": [
    "check_rating(\"The Catcher in the Rye\")"
   ]
  },
  {
   "cell_type": "code",
   "execution_count": 40,
   "id": "2a645479-241c-4010-929a-8db285027131",
   "metadata": {},
   "outputs": [
    {
     "data": {
      "text/plain": [
       "'high (4.9)'"
      ]
     },
     "execution_count": 40,
     "metadata": {},
     "output_type": "execute_result"
    }
   ],
   "source": [
    "check_rating(\"Harry Potter and the Sorcerer's Stone\")"
   ]
  },
  {
   "cell_type": "code",
   "execution_count": 41,
   "id": "24da7753-c172-48cb-8383-3a8281f2d068",
   "metadata": {},
   "outputs": [
    {
     "data": {
      "text/plain": [
       "'Error: Book not found'"
      ]
     },
     "execution_count": 41,
     "metadata": {},
     "output_type": "execute_result"
    }
   ],
   "source": [
    "check_rating(\"Some other book\")"
   ]
  },
  {
   "cell_type": "markdown",
   "id": "4c18039e-f920-4ca3-aad9-21fb3e1b3cf1",
   "metadata": {},
   "source": [
    "2. Average Rating by Genre\n",
    "\n",
    "Write a function average_rating_by_genre(books, genre) that accepts the list of books and a genre, and returns the average rating for that genre. If the genre does not exist in the list, return an appropriate message."
   ]
  },
  {
   "cell_type": "code",
   "execution_count": 45,
   "id": "44051c7e-0195-41be-a7a6-61030681acdd",
   "metadata": {},
   "outputs": [],
   "source": [
    "def average_rating_by_genre(books, genre):\n",
    "    running_sum = 0\n",
    "    num_of_books = 0\n",
    "    \n",
    "    for book in books:\n",
    "        if book[\"genre\"] == genre:\n",
    "            num_of_books += 1\n",
    "            running_sum += book[\"rating\"]\n",
    "    \n",
    "    if num_of_books == 0:\n",
    "        return \"Error: \" + genre + \" not found\"\n",
    "\n",
    "    return running_sum / num_of_books"
   ]
  },
  {
   "cell_type": "code",
   "execution_count": 46,
   "id": "1893e54d-34e7-42c8-bae2-c1fe8c442a9e",
   "metadata": {},
   "outputs": [
    {
     "name": "stdin",
     "output_type": "stream",
     "text": [
      "Enter a genre:  Classic\n"
     ]
    },
    {
     "name": "stdout",
     "output_type": "stream",
     "text": [
      "The average rating of Classic is 4.50\n"
     ]
    }
   ],
   "source": [
    "genre = input(\"Enter a genre: \")\n",
    "print(f\"The average rating of {genre} is {average_rating_by_genre(books, genre):.2f}\")"
   ]
  },
  {
   "cell_type": "markdown",
   "id": "4ef85f24-35cd-482a-b7ee-0aefeb7f1e2b",
   "metadata": {},
   "source": [
    "3. Books by Author\n",
    "\n",
    "Write a function books_by_author(books, author) that accepts the book list and an author's name, and returns a list of all the books written by that author. If the author does not exist, raise a custom error."
   ]
  },
  {
   "cell_type": "code",
   "execution_count": 47,
   "id": "6e5f4dad-06fd-4157-b8cd-6e3151c8325b",
   "metadata": {},
   "outputs": [],
   "source": [
    "def books_by_author(books, author):\n",
    "    result = []\n",
    "    for book in books:\n",
    "        if book[\"author\"] == author:\n",
    "            result.append(book[\"title\"])\n",
    "    if len(result) == 0:\n",
    "        return \"Error: Author not found\"\n",
    "    return result"
   ]
  },
  {
   "cell_type": "code",
   "execution_count": 48,
   "id": "2885aad9-76fc-45ad-adbb-7ac3477a1396",
   "metadata": {},
   "outputs": [
    {
     "name": "stdin",
     "output_type": "stream",
     "text": [
      "Enter author's name:  J.D. Salinger\n"
     ]
    },
    {
     "name": "stdout",
     "output_type": "stream",
     "text": [
      "J.D. Salinger wrote the following books: ['The Catcher in the Rye']\n"
     ]
    }
   ],
   "source": [
    "author = input(\"Enter author's name: \")\n",
    "print(f\"{author} wrote the following books: {books_by_author(books, author)}\")"
   ]
  },
  {
   "cell_type": "code",
   "execution_count": null,
   "id": "fc0bc46d-9294-4898-b582-d49ff839986a",
   "metadata": {},
   "outputs": [],
   "source": []
  }
 ],
 "metadata": {
  "kernelspec": {
   "display_name": "Python 3 (ipykernel)",
   "language": "python",
   "name": "python3"
  },
  "language_info": {
   "codemirror_mode": {
    "name": "ipython",
    "version": 3
   },
   "file_extension": ".py",
   "mimetype": "text/x-python",
   "name": "python",
   "nbconvert_exporter": "python",
   "pygments_lexer": "ipython3",
   "version": "3.9.7"
  }
 },
 "nbformat": 4,
 "nbformat_minor": 5
}
