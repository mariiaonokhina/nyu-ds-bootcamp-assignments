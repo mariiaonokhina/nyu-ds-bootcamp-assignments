{
 "cells": [
  {
   "cell_type": "markdown",
   "id": "75db4052-ecf1-4d0d-8fae-aa20b653caa1",
   "metadata": {},
   "source": [
    "# Take Home Problems 3 - Mariia Onokhina"
   ]
  },
  {
   "cell_type": "code",
   "execution_count": 1,
   "id": "aa96c601-6985-496d-bc09-1a2d24ebfa46",
   "metadata": {},
   "outputs": [],
   "source": [
    "import pandas as pd\n",
    "import matplotlib.pyplot as plt\n",
    "import seaborn as sns\n",
    "\n",
    "# set up notebook to show all outputs in a cell, not only last one\n",
    "\n",
    "\n",
    "from IPython.core.interactiveshell import InteractiveShell\n",
    "InteractiveShell.ast_node_interactivity = \"all\""
   ]
  },
  {
   "cell_type": "code",
   "execution_count": 2,
   "id": "dd2c34ac-687f-48e0-829c-ebeda5abf98b",
   "metadata": {},
   "outputs": [],
   "source": [
    "url = 'https://data.cityofnewyork.us/api/views/6fi9-q3ta/rows.csv?accessType=DOWNLOAD'\n",
    "df = pd.read_csv(url,sep=',')"
   ]
  },
  {
   "cell_type": "code",
   "execution_count": 3,
   "id": "112ffce8-5800-47b3-ac40-d1e497fdaff0",
   "metadata": {},
   "outputs": [
    {
     "data": {
      "text/html": [
       "<div>\n",
       "<style scoped>\n",
       "    .dataframe tbody tr th:only-of-type {\n",
       "        vertical-align: middle;\n",
       "    }\n",
       "\n",
       "    .dataframe tbody tr th {\n",
       "        vertical-align: top;\n",
       "    }\n",
       "\n",
       "    .dataframe thead th {\n",
       "        text-align: right;\n",
       "    }\n",
       "</style>\n",
       "<table border=\"1\" class=\"dataframe\">\n",
       "  <thead>\n",
       "    <tr style=\"text-align: right;\">\n",
       "      <th></th>\n",
       "      <th>hour_beginning</th>\n",
       "      <th>location</th>\n",
       "      <th>Pedestrians</th>\n",
       "      <th>Towards Manhattan</th>\n",
       "      <th>Towards Brooklyn</th>\n",
       "      <th>weather_summary</th>\n",
       "      <th>temperature</th>\n",
       "      <th>precipitation</th>\n",
       "      <th>lat</th>\n",
       "      <th>long</th>\n",
       "      <th>events</th>\n",
       "      <th>Location1</th>\n",
       "    </tr>\n",
       "  </thead>\n",
       "  <tbody>\n",
       "    <tr>\n",
       "      <th>0</th>\n",
       "      <td>04/30/2019 12:00:00 AM</td>\n",
       "      <td>Brooklyn Bridge</td>\n",
       "      <td>3</td>\n",
       "      <td>3</td>\n",
       "      <td>0</td>\n",
       "      <td>NaN</td>\n",
       "      <td>NaN</td>\n",
       "      <td>NaN</td>\n",
       "      <td>40.708164</td>\n",
       "      <td>-73.999509</td>\n",
       "      <td>NaN</td>\n",
       "      <td>(40.7081639691088, -73.9995087014816)</td>\n",
       "    </tr>\n",
       "    <tr>\n",
       "      <th>1</th>\n",
       "      <td>12/31/2019 10:00:00 PM</td>\n",
       "      <td>Brooklyn Bridge</td>\n",
       "      <td>10</td>\n",
       "      <td>9</td>\n",
       "      <td>1</td>\n",
       "      <td>cloudy</td>\n",
       "      <td>42.0</td>\n",
       "      <td>0.0005</td>\n",
       "      <td>40.708164</td>\n",
       "      <td>-73.999509</td>\n",
       "      <td>NaN</td>\n",
       "      <td>(40.7081639691088, -73.9995087014816)</td>\n",
       "    </tr>\n",
       "    <tr>\n",
       "      <th>2</th>\n",
       "      <td>12/31/2019 11:00:00 PM</td>\n",
       "      <td>Brooklyn Bridge</td>\n",
       "      <td>2</td>\n",
       "      <td>0</td>\n",
       "      <td>2</td>\n",
       "      <td>cloudy</td>\n",
       "      <td>42.0</td>\n",
       "      <td>0.0004</td>\n",
       "      <td>40.708164</td>\n",
       "      <td>-73.999509</td>\n",
       "      <td>NaN</td>\n",
       "      <td>(40.7081639691088, -73.9995087014816)</td>\n",
       "    </tr>\n",
       "    <tr>\n",
       "      <th>3</th>\n",
       "      <td>12/31/2019 09:00:00 PM</td>\n",
       "      <td>Brooklyn Bridge</td>\n",
       "      <td>12</td>\n",
       "      <td>0</td>\n",
       "      <td>12</td>\n",
       "      <td>cloudy</td>\n",
       "      <td>42.0</td>\n",
       "      <td>0.0036</td>\n",
       "      <td>40.708164</td>\n",
       "      <td>-73.999509</td>\n",
       "      <td>NaN</td>\n",
       "      <td>(40.7081639691088, -73.9995087014816)</td>\n",
       "    </tr>\n",
       "    <tr>\n",
       "      <th>4</th>\n",
       "      <td>04/01/2019 03:00:00 AM</td>\n",
       "      <td>Brooklyn Bridge</td>\n",
       "      <td>1</td>\n",
       "      <td>0</td>\n",
       "      <td>1</td>\n",
       "      <td>clear-night</td>\n",
       "      <td>36.0</td>\n",
       "      <td>0.0000</td>\n",
       "      <td>40.708164</td>\n",
       "      <td>-73.999509</td>\n",
       "      <td>NaN</td>\n",
       "      <td>(40.7081639691088, -73.9995087014816)</td>\n",
       "    </tr>\n",
       "  </tbody>\n",
       "</table>\n",
       "</div>"
      ],
      "text/plain": [
       "           hour_beginning         location  Pedestrians  Towards Manhattan  \\\n",
       "0  04/30/2019 12:00:00 AM  Brooklyn Bridge            3                  3   \n",
       "1  12/31/2019 10:00:00 PM  Brooklyn Bridge           10                  9   \n",
       "2  12/31/2019 11:00:00 PM  Brooklyn Bridge            2                  0   \n",
       "3  12/31/2019 09:00:00 PM  Brooklyn Bridge           12                  0   \n",
       "4  04/01/2019 03:00:00 AM  Brooklyn Bridge            1                  0   \n",
       "\n",
       "   Towards Brooklyn weather_summary  temperature  precipitation        lat  \\\n",
       "0                 0             NaN          NaN            NaN  40.708164   \n",
       "1                 1          cloudy         42.0         0.0005  40.708164   \n",
       "2                 2          cloudy         42.0         0.0004  40.708164   \n",
       "3                12          cloudy         42.0         0.0036  40.708164   \n",
       "4                 1     clear-night         36.0         0.0000  40.708164   \n",
       "\n",
       "        long events                              Location1  \n",
       "0 -73.999509    NaN  (40.7081639691088, -73.9995087014816)  \n",
       "1 -73.999509    NaN  (40.7081639691088, -73.9995087014816)  \n",
       "2 -73.999509    NaN  (40.7081639691088, -73.9995087014816)  \n",
       "3 -73.999509    NaN  (40.7081639691088, -73.9995087014816)  \n",
       "4 -73.999509    NaN  (40.7081639691088, -73.9995087014816)  "
      ]
     },
     "execution_count": 3,
     "metadata": {},
     "output_type": "execute_result"
    }
   ],
   "source": [
    "df.head()"
   ]
  },
  {
   "cell_type": "code",
   "execution_count": 4,
   "id": "bf452b0d-4526-41c9-805d-c4cf86339f7d",
   "metadata": {},
   "outputs": [
    {
     "data": {
      "text/html": [
       "<div>\n",
       "<style scoped>\n",
       "    .dataframe tbody tr th:only-of-type {\n",
       "        vertical-align: middle;\n",
       "    }\n",
       "\n",
       "    .dataframe tbody tr th {\n",
       "        vertical-align: top;\n",
       "    }\n",
       "\n",
       "    .dataframe thead th {\n",
       "        text-align: right;\n",
       "    }\n",
       "</style>\n",
       "<table border=\"1\" class=\"dataframe\">\n",
       "  <thead>\n",
       "    <tr style=\"text-align: right;\">\n",
       "      <th></th>\n",
       "      <th>hour_beginning</th>\n",
       "      <th>location</th>\n",
       "      <th>Pedestrians</th>\n",
       "      <th>Towards Manhattan</th>\n",
       "      <th>Towards Brooklyn</th>\n",
       "      <th>weather_summary</th>\n",
       "      <th>temperature</th>\n",
       "      <th>precipitation</th>\n",
       "      <th>lat</th>\n",
       "      <th>long</th>\n",
       "      <th>events</th>\n",
       "      <th>Location1</th>\n",
       "    </tr>\n",
       "  </thead>\n",
       "  <tbody>\n",
       "    <tr>\n",
       "      <th>0</th>\n",
       "      <td>04/30/2019 12:00:00 AM</td>\n",
       "      <td>Brooklyn Bridge</td>\n",
       "      <td>3</td>\n",
       "      <td>3</td>\n",
       "      <td>0</td>\n",
       "      <td>NaN</td>\n",
       "      <td>NaN</td>\n",
       "      <td>NaN</td>\n",
       "      <td>40.708164</td>\n",
       "      <td>-73.999509</td>\n",
       "      <td>NaN</td>\n",
       "      <td>(40.7081639691088, -73.9995087014816)</td>\n",
       "    </tr>\n",
       "    <tr>\n",
       "      <th>1</th>\n",
       "      <td>12/31/2019 10:00:00 PM</td>\n",
       "      <td>Brooklyn Bridge</td>\n",
       "      <td>10</td>\n",
       "      <td>9</td>\n",
       "      <td>1</td>\n",
       "      <td>cloudy</td>\n",
       "      <td>42.0</td>\n",
       "      <td>0.0005</td>\n",
       "      <td>40.708164</td>\n",
       "      <td>-73.999509</td>\n",
       "      <td>NaN</td>\n",
       "      <td>(40.7081639691088, -73.9995087014816)</td>\n",
       "    </tr>\n",
       "    <tr>\n",
       "      <th>2</th>\n",
       "      <td>12/31/2019 11:00:00 PM</td>\n",
       "      <td>Brooklyn Bridge</td>\n",
       "      <td>2</td>\n",
       "      <td>0</td>\n",
       "      <td>2</td>\n",
       "      <td>cloudy</td>\n",
       "      <td>42.0</td>\n",
       "      <td>0.0004</td>\n",
       "      <td>40.708164</td>\n",
       "      <td>-73.999509</td>\n",
       "      <td>NaN</td>\n",
       "      <td>(40.7081639691088, -73.9995087014816)</td>\n",
       "    </tr>\n",
       "    <tr>\n",
       "      <th>3</th>\n",
       "      <td>12/31/2019 09:00:00 PM</td>\n",
       "      <td>Brooklyn Bridge</td>\n",
       "      <td>12</td>\n",
       "      <td>0</td>\n",
       "      <td>12</td>\n",
       "      <td>cloudy</td>\n",
       "      <td>42.0</td>\n",
       "      <td>0.0036</td>\n",
       "      <td>40.708164</td>\n",
       "      <td>-73.999509</td>\n",
       "      <td>NaN</td>\n",
       "      <td>(40.7081639691088, -73.9995087014816)</td>\n",
       "    </tr>\n",
       "    <tr>\n",
       "      <th>4</th>\n",
       "      <td>04/01/2019 03:00:00 AM</td>\n",
       "      <td>Brooklyn Bridge</td>\n",
       "      <td>1</td>\n",
       "      <td>0</td>\n",
       "      <td>1</td>\n",
       "      <td>clear-night</td>\n",
       "      <td>36.0</td>\n",
       "      <td>0.0000</td>\n",
       "      <td>40.708164</td>\n",
       "      <td>-73.999509</td>\n",
       "      <td>NaN</td>\n",
       "      <td>(40.7081639691088, -73.9995087014816)</td>\n",
       "    </tr>\n",
       "  </tbody>\n",
       "</table>\n",
       "</div>"
      ],
      "text/plain": [
       "           hour_beginning         location  Pedestrians  Towards Manhattan  \\\n",
       "0  04/30/2019 12:00:00 AM  Brooklyn Bridge            3                  3   \n",
       "1  12/31/2019 10:00:00 PM  Brooklyn Bridge           10                  9   \n",
       "2  12/31/2019 11:00:00 PM  Brooklyn Bridge            2                  0   \n",
       "3  12/31/2019 09:00:00 PM  Brooklyn Bridge           12                  0   \n",
       "4  04/01/2019 03:00:00 AM  Brooklyn Bridge            1                  0   \n",
       "\n",
       "   Towards Brooklyn weather_summary  temperature  precipitation        lat  \\\n",
       "0                 0             NaN          NaN            NaN  40.708164   \n",
       "1                 1          cloudy         42.0         0.0005  40.708164   \n",
       "2                 2          cloudy         42.0         0.0004  40.708164   \n",
       "3                12          cloudy         42.0         0.0036  40.708164   \n",
       "4                 1     clear-night         36.0         0.0000  40.708164   \n",
       "\n",
       "        long events                              Location1  \n",
       "0 -73.999509    NaN  (40.7081639691088, -73.9995087014816)  \n",
       "1 -73.999509    NaN  (40.7081639691088, -73.9995087014816)  \n",
       "2 -73.999509    NaN  (40.7081639691088, -73.9995087014816)  \n",
       "3 -73.999509    NaN  (40.7081639691088, -73.9995087014816)  \n",
       "4 -73.999509    NaN  (40.7081639691088, -73.9995087014816)  "
      ]
     },
     "execution_count": 4,
     "metadata": {},
     "output_type": "execute_result"
    }
   ],
   "source": [
    "df = df.drop_duplicates()\n",
    "\n",
    "# Remove completely empty columns (if any)\n",
    "df = df.dropna(axis=1, how='all')\n",
    "df.head()"
   ]
  },
  {
   "cell_type": "code",
   "execution_count": 7,
   "id": "0c1e61c6-a9d4-4bc0-8758-e699f3c90822",
   "metadata": {},
   "outputs": [],
   "source": [
    "# Convert to datetime\n",
    "df['hour_beginning'] = pd.to_datetime(df['hour_beginning'], errors='coerce')\n",
    "\n",
    "# Drop rows with invalid dates\n",
    "df = df.dropna(subset=['hour_beginning'])"
   ]
  },
  {
   "cell_type": "code",
   "execution_count": 8,
   "id": "e5c400d5-b2db-46e4-941c-e809e560bc5d",
   "metadata": {},
   "outputs": [],
   "source": [
    "# Ensure pedestrian counts are numeric\n",
    "df['Pedestrians'] = pd.to_numeric(df['Pedestrians'], errors='coerce')\n",
    "\n",
    "df['weather_summary'] = df['weather_summary'].fillna('unknown')\n",
    "\n",
    "# Add weekday name and year columns\n",
    "df['weekday'] = df['hour_beginning'].dt.day_name()\n",
    "df['year'] = df['hour_beginning'].dt.year"
   ]
  },
  {
   "cell_type": "code",
   "execution_count": 9,
   "id": "a957177f-a52c-4a34-9700-bbe6bab77522",
   "metadata": {},
   "outputs": [
    {
     "data": {
      "text/html": [
       "<div>\n",
       "<style scoped>\n",
       "    .dataframe tbody tr th:only-of-type {\n",
       "        vertical-align: middle;\n",
       "    }\n",
       "\n",
       "    .dataframe tbody tr th {\n",
       "        vertical-align: top;\n",
       "    }\n",
       "\n",
       "    .dataframe thead th {\n",
       "        text-align: right;\n",
       "    }\n",
       "</style>\n",
       "<table border=\"1\" class=\"dataframe\">\n",
       "  <thead>\n",
       "    <tr style=\"text-align: right;\">\n",
       "      <th></th>\n",
       "      <th>hour_beginning</th>\n",
       "      <th>location</th>\n",
       "      <th>Pedestrians</th>\n",
       "      <th>Towards Manhattan</th>\n",
       "      <th>Towards Brooklyn</th>\n",
       "      <th>weather_summary</th>\n",
       "      <th>temperature</th>\n",
       "      <th>precipitation</th>\n",
       "      <th>lat</th>\n",
       "      <th>long</th>\n",
       "      <th>events</th>\n",
       "      <th>Location1</th>\n",
       "      <th>weekday</th>\n",
       "      <th>year</th>\n",
       "    </tr>\n",
       "  </thead>\n",
       "  <tbody>\n",
       "    <tr>\n",
       "      <th>0</th>\n",
       "      <td>2019-04-30 00:00:00</td>\n",
       "      <td>Brooklyn Bridge</td>\n",
       "      <td>3</td>\n",
       "      <td>3</td>\n",
       "      <td>0</td>\n",
       "      <td>unknown</td>\n",
       "      <td>NaN</td>\n",
       "      <td>NaN</td>\n",
       "      <td>40.708164</td>\n",
       "      <td>-73.999509</td>\n",
       "      <td>NaN</td>\n",
       "      <td>(40.7081639691088, -73.9995087014816)</td>\n",
       "      <td>Tuesday</td>\n",
       "      <td>2019</td>\n",
       "    </tr>\n",
       "    <tr>\n",
       "      <th>1</th>\n",
       "      <td>2019-12-31 22:00:00</td>\n",
       "      <td>Brooklyn Bridge</td>\n",
       "      <td>10</td>\n",
       "      <td>9</td>\n",
       "      <td>1</td>\n",
       "      <td>cloudy</td>\n",
       "      <td>42.0</td>\n",
       "      <td>0.0005</td>\n",
       "      <td>40.708164</td>\n",
       "      <td>-73.999509</td>\n",
       "      <td>NaN</td>\n",
       "      <td>(40.7081639691088, -73.9995087014816)</td>\n",
       "      <td>Tuesday</td>\n",
       "      <td>2019</td>\n",
       "    </tr>\n",
       "    <tr>\n",
       "      <th>2</th>\n",
       "      <td>2019-12-31 23:00:00</td>\n",
       "      <td>Brooklyn Bridge</td>\n",
       "      <td>2</td>\n",
       "      <td>0</td>\n",
       "      <td>2</td>\n",
       "      <td>cloudy</td>\n",
       "      <td>42.0</td>\n",
       "      <td>0.0004</td>\n",
       "      <td>40.708164</td>\n",
       "      <td>-73.999509</td>\n",
       "      <td>NaN</td>\n",
       "      <td>(40.7081639691088, -73.9995087014816)</td>\n",
       "      <td>Tuesday</td>\n",
       "      <td>2019</td>\n",
       "    </tr>\n",
       "    <tr>\n",
       "      <th>3</th>\n",
       "      <td>2019-12-31 21:00:00</td>\n",
       "      <td>Brooklyn Bridge</td>\n",
       "      <td>12</td>\n",
       "      <td>0</td>\n",
       "      <td>12</td>\n",
       "      <td>cloudy</td>\n",
       "      <td>42.0</td>\n",
       "      <td>0.0036</td>\n",
       "      <td>40.708164</td>\n",
       "      <td>-73.999509</td>\n",
       "      <td>NaN</td>\n",
       "      <td>(40.7081639691088, -73.9995087014816)</td>\n",
       "      <td>Tuesday</td>\n",
       "      <td>2019</td>\n",
       "    </tr>\n",
       "    <tr>\n",
       "      <th>4</th>\n",
       "      <td>2019-04-01 03:00:00</td>\n",
       "      <td>Brooklyn Bridge</td>\n",
       "      <td>1</td>\n",
       "      <td>0</td>\n",
       "      <td>1</td>\n",
       "      <td>clear-night</td>\n",
       "      <td>36.0</td>\n",
       "      <td>0.0000</td>\n",
       "      <td>40.708164</td>\n",
       "      <td>-73.999509</td>\n",
       "      <td>NaN</td>\n",
       "      <td>(40.7081639691088, -73.9995087014816)</td>\n",
       "      <td>Monday</td>\n",
       "      <td>2019</td>\n",
       "    </tr>\n",
       "  </tbody>\n",
       "</table>\n",
       "</div>"
      ],
      "text/plain": [
       "       hour_beginning         location  Pedestrians  Towards Manhattan  \\\n",
       "0 2019-04-30 00:00:00  Brooklyn Bridge            3                  3   \n",
       "1 2019-12-31 22:00:00  Brooklyn Bridge           10                  9   \n",
       "2 2019-12-31 23:00:00  Brooklyn Bridge            2                  0   \n",
       "3 2019-12-31 21:00:00  Brooklyn Bridge           12                  0   \n",
       "4 2019-04-01 03:00:00  Brooklyn Bridge            1                  0   \n",
       "\n",
       "   Towards Brooklyn weather_summary  temperature  precipitation        lat  \\\n",
       "0                 0         unknown          NaN            NaN  40.708164   \n",
       "1                 1          cloudy         42.0         0.0005  40.708164   \n",
       "2                 2          cloudy         42.0         0.0004  40.708164   \n",
       "3                12          cloudy         42.0         0.0036  40.708164   \n",
       "4                 1     clear-night         36.0         0.0000  40.708164   \n",
       "\n",
       "        long events                              Location1  weekday  year  \n",
       "0 -73.999509    NaN  (40.7081639691088, -73.9995087014816)  Tuesday  2019  \n",
       "1 -73.999509    NaN  (40.7081639691088, -73.9995087014816)  Tuesday  2019  \n",
       "2 -73.999509    NaN  (40.7081639691088, -73.9995087014816)  Tuesday  2019  \n",
       "3 -73.999509    NaN  (40.7081639691088, -73.9995087014816)  Tuesday  2019  \n",
       "4 -73.999509    NaN  (40.7081639691088, -73.9995087014816)   Monday  2019  "
      ]
     },
     "execution_count": 9,
     "metadata": {},
     "output_type": "execute_result"
    }
   ],
   "source": [
    "df.head()"
   ]
  },
  {
   "cell_type": "markdown",
   "id": "bdfd4bc7-6e13-4824-b21b-128c09c624a9",
   "metadata": {},
   "source": [
    "1. Filter the data to include only weekdays (Monday to Friday) and plot a line graph showing the pedestrian counts for each day of the week."
   ]
  },
  {
   "cell_type": "code",
   "execution_count": 10,
   "id": "ee90c2bf-775d-400e-bf97-e271303482c8",
   "metadata": {},
   "outputs": [
    {
     "data": {
      "text/plain": [
       "<Figure size 800x500 with 0 Axes>"
      ]
     },
     "execution_count": 10,
     "metadata": {},
     "output_type": "execute_result"
    },
    {
     "data": {
      "text/plain": [
       "[<matplotlib.lines.Line2D at 0x16d809f90>]"
      ]
     },
     "execution_count": 10,
     "metadata": {},
     "output_type": "execute_result"
    },
    {
     "data": {
      "text/plain": [
       "Text(0.5, 1.0, 'Pedestrian Counts by Weekday (Brooklyn Bridge)')"
      ]
     },
     "execution_count": 10,
     "metadata": {},
     "output_type": "execute_result"
    },
    {
     "data": {
      "text/plain": [
       "Text(0.5, 0, 'Day of Week')"
      ]
     },
     "execution_count": 10,
     "metadata": {},
     "output_type": "execute_result"
    },
    {
     "data": {
      "text/plain": [
       "Text(0, 0.5, 'Total Pedestrian Count')"
      ]
     },
     "execution_count": 10,
     "metadata": {},
     "output_type": "execute_result"
    },
    {
     "data": {
      "image/png": "[encoded data removed]",
      "text/plain": [
       "<Figure size 800x500 with 1 Axes>"
      ]
     },
     "metadata": {},
     "output_type": "display_data"
    }
   ],
   "source": [
    "weekdays = ['Monday', 'Tuesday', 'Wednesday', 'Thursday', 'Friday']\n",
    "weekday_data = df[df['weekday'].isin(weekdays)]\n",
    "\n",
    "weekday_counts = weekday_data.groupby('weekday')['Pedestrians'].sum().reindex(weekdays)\n",
    "\n",
    "plt.figure(figsize=(8,5))\n",
    "plt.plot(weekday_counts.index, weekday_counts.values, marker='o')\n",
    "plt.title('Pedestrian Counts by Weekday (Brooklyn Bridge)')\n",
    "plt.xlabel('Day of Week')\n",
    "plt.ylabel('Total Pedestrian Count')\n",
    "plt.grid(True)\n",
    "plt.show()"
   ]
  },
  {
   "cell_type": "markdown",
   "id": "91aabe63-8767-4ea8-ae94-f8dc25bc0ba0",
   "metadata": {},
   "source": [
    "2. Track pedestrian counts on the Brooklyn Bridge for the year 2019 and analyze how different weather conditions influence pedestrian activity in that year. Sort the pedestrian count data by weather summary to identify any correlations( with a correlation matrix) between weather patterns and pedestrian counts for the selected year."
   ]
  },
  {
   "cell_type": "code",
   "execution_count": 15,
   "id": "a75229aa-1341-4bb1-b7fa-71bc0b57d3e7",
   "metadata": {},
   "outputs": [
    {
     "data": {
      "text/html": [
       "<div>\n",
       "<style scoped>\n",
       "    .dataframe tbody tr th:only-of-type {\n",
       "        vertical-align: middle;\n",
       "    }\n",
       "\n",
       "    .dataframe tbody tr th {\n",
       "        vertical-align: top;\n",
       "    }\n",
       "\n",
       "    .dataframe thead th {\n",
       "        text-align: right;\n",
       "    }\n",
       "</style>\n",
       "<table border=\"1\" class=\"dataframe\">\n",
       "  <thead>\n",
       "    <tr style=\"text-align: right;\">\n",
       "      <th></th>\n",
       "      <th>Pedestrians</th>\n",
       "      <th>temperature</th>\n",
       "      <th>precipitation</th>\n",
       "    </tr>\n",
       "    <tr>\n",
       "      <th>weather_summary</th>\n",
       "      <th></th>\n",
       "      <th></th>\n",
       "      <th></th>\n",
       "    </tr>\n",
       "  </thead>\n",
       "  <tbody>\n",
       "    <tr>\n",
       "      <th>partly-cloudy-day</th>\n",
       "      <td>1574.093627</td>\n",
       "      <td>66.173717</td>\n",
       "      <td>0.000176</td>\n",
       "    </tr>\n",
       "    <tr>\n",
       "      <th>clear-day</th>\n",
       "      <td>1382.183298</td>\n",
       "      <td>55.523708</td>\n",
       "      <td>0.000062</td>\n",
       "    </tr>\n",
       "    <tr>\n",
       "      <th>wind</th>\n",
       "      <td>679.000000</td>\n",
       "      <td>51.000000</td>\n",
       "      <td>0.000575</td>\n",
       "    </tr>\n",
       "    <tr>\n",
       "      <th>cloudy</th>\n",
       "      <td>543.225041</td>\n",
       "      <td>52.075014</td>\n",
       "      <td>0.001302</td>\n",
       "    </tr>\n",
       "    <tr>\n",
       "      <th>rain</th>\n",
       "      <td>229.822076</td>\n",
       "      <td>53.911038</td>\n",
       "      <td>0.056557</td>\n",
       "    </tr>\n",
       "  </tbody>\n",
       "</table>\n",
       "</div>"
      ],
      "text/plain": [
       "                   Pedestrians  temperature  precipitation\n",
       "weather_summary                                           \n",
       "partly-cloudy-day  1574.093627    66.173717       0.000176\n",
       "clear-day          1382.183298    55.523708       0.000062\n",
       "wind                679.000000    51.000000       0.000575\n",
       "cloudy              543.225041    52.075014       0.001302\n",
       "rain                229.822076    53.911038       0.056557"
      ]
     },
     "metadata": {},
     "output_type": "display_data"
    },
    {
     "data": {
      "text/plain": [
       "<Figure size 600x400 with 0 Axes>"
      ]
     },
     "execution_count": 15,
     "metadata": {},
     "output_type": "execute_result"
    },
    {
     "data": {
      "text/plain": [
       "<Axes: >"
      ]
     },
     "execution_count": 15,
     "metadata": {},
     "output_type": "execute_result"
    },
    {
     "data": {
      "text/plain": [
       "Text(0.5, 1.0, 'Correlation Matrix - 2019 Weather vs Pedestrian Counts (Brooklyn Bridge)')"
      ]
     },
     "execution_count": 15,
     "metadata": {},
     "output_type": "execute_result"
    },
    {
     "data": {
      "image/png": "[encoded data removed]",
      "text/plain": [
       "<Figure size 600x400 with 2 Axes>"
      ]
     },
     "metadata": {},
     "output_type": "display_data"
    }
   ],
   "source": [
    "df_2019 = df[(df['year'] == 2019) & (df['location'] == 'Brooklyn Bridge')]\n",
    "\n",
    "weather_grouped = (\n",
    "    df_2019.groupby('weather_summary')[['Pedestrians', 'temperature', 'precipitation']]\n",
    "    .mean()\n",
    "    .sort_values(by='Pedestrians', ascending=False)\n",
    ")\n",
    "\n",
    "display(weather_grouped.head())\n",
    "\n",
    "# Compute correlation matrix\n",
    "corr_matrix = weather_grouped.corr()\n",
    "\n",
    "# Plot correlation heatmap\n",
    "plt.figure(figsize=(6,4))\n",
    "sns.heatmap(\n",
    "    corr_matrix,\n",
    "    annot=True,\n",
    "    cmap='coolwarm',\n",
    "    vmin=-1, vmax=1,\n",
    "    linewidths=0.5,\n",
    "    cbar_kws={'label': 'Correlation Coefficient'}\n",
    ")\n",
    "plt.title('Correlation Matrix - 2019 Weather vs Pedestrian Counts (Brooklyn Bridge)')\n",
    "plt.tight_layout()\n",
    "plt.show()\n"
   ]
  },
  {
   "cell_type": "markdown",
   "id": "7f72bb26-bb0d-4313-bf4a-5585693cc2d4",
   "metadata": {},
   "source": [
    "3. Implement a custom function to categorize time of day into morning, afternoon, evening, and night, and create a new column in the DataFrame to store these categories. Use this new column to analyze pedestrian activity patterns throughout the day."
   ]
  },
  {
   "cell_type": "code",
   "execution_count": 17,
   "id": "4db3e9cd-9a7d-49c8-a1cf-bc7189203270",
   "metadata": {},
   "outputs": [
    {
     "name": "stdout",
     "output_type": "stream",
     "text": [
      "time_of_day\n",
      "morning       614.543099\n",
      "afternoon    1694.841305\n",
      "evening       426.206776\n",
      "night          13.001993\n",
      "Name: Pedestrians, dtype: float64\n"
     ]
    },
    {
     "data": {
      "text/plain": [
       "<BarContainer object of 4 artists>"
      ]
     },
     "execution_count": 17,
     "metadata": {},
     "output_type": "execute_result"
    },
    {
     "data": {
      "text/plain": [
       "Text(0.5, 1.0, 'Average Pedestrian Activity by Time of Day')"
      ]
     },
     "execution_count": 17,
     "metadata": {},
     "output_type": "execute_result"
    },
    {
     "data": {
      "text/plain": [
       "Text(0.5, 0, 'Time of Day')"
      ]
     },
     "execution_count": 17,
     "metadata": {},
     "output_type": "execute_result"
    },
    {
     "data": {
      "text/plain": [
       "Text(0, 0.5, 'Average Pedestrians')"
      ]
     },
     "execution_count": 17,
     "metadata": {},
     "output_type": "execute_result"
    },
    {
     "data": {
      "image/png": "[encoded data removed]",
      "text/plain": [
       "<Figure size 640x480 with 1 Axes>"
      ]
     },
     "metadata": {},
     "output_type": "display_data"
    }
   ],
   "source": [
    "def categorize_time(hour):\n",
    "    if 6 <= hour < 12:\n",
    "        return 'morning'\n",
    "    elif 12 <= hour < 18:\n",
    "        return 'afternoon'\n",
    "    elif 18 <= hour < 24:\n",
    "        return 'evening'\n",
    "    else:\n",
    "        return 'night'\n",
    "\n",
    "df['time_of_day'] = df['hour_beginning'].dt.hour.apply(categorize_time)\n",
    "\n",
    "time_counts = df.groupby('time_of_day')['Pedestrians'].mean().reindex(['morning','afternoon','evening','night'])\n",
    "print(time_counts)\n",
    "\n",
    "plt.bar(time_counts.index, time_counts.values, color='skyblue')\n",
    "plt.title('Average Pedestrian Activity by Time of Day')\n",
    "plt.xlabel('Time of Day')\n",
    "plt.ylabel('Average Pedestrians')\n",
    "plt.show()\n"
   ]
  },
  {
   "cell_type": "code",
   "execution_count": null,
   "id": "e1cc0dff-d159-423e-be5a-1d68ecad3c5c",
   "metadata": {},
   "outputs": [],
   "source": []
  }
 ],
 "metadata": {
  "kernelspec": {
   "display_name": "Python (ml)",
   "language": "python",
   "name": "ml"
  },
  "language_info": {
   "codemirror_mode": {
    "name": "ipython",
    "version": 3
   },
   "file_extension": ".py",
   "mimetype": "text/x-python",
   "name": "python",
   "nbconvert_exporter": "python",
   "pygments_lexer": "ipython3",
   "version": "3.13.7"
  }
 },
 "nbformat": 4,
 "nbformat_minor": 5
}
